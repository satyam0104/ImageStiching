{
  "cells": [
    {
      "cell_type": "markdown",
      "metadata": {
        "id": "view-in-github",
        "colab_type": "text"
      },
      "source": [
        "<a href=\"https://colab.research.google.com/github/satyam0104/ImageStiching/blob/main/Image_stiching.ipynb\" target=\"_parent\"><img src=\"https://colab.research.google.com/assets/colab-badge.svg\" alt=\"Open In Colab\"/></a>"
      ]
    },
    {
      "cell_type": "markdown",
      "source": [
        ""
      ],
      "metadata": {
        "id": "Js3mHOPi2UAg"
      }
    },
    {
      "cell_type": "code",
      "execution_count": null,
      "metadata": {
        "execution": {
          "iopub.execute_input": "2021-08-21T21:22:10.425705Z",
          "iopub.status.busy": "2021-08-21T21:22:10.424705Z",
          "iopub.status.idle": "2021-08-21T21:22:10.847586Z",
          "shell.execute_reply": "2021-08-21T21:22:10.847586Z"
        },
        "id": "tx-JVjZMYzqB"
      },
      "outputs": [],
      "source": [
        "#importing libraries\n",
        "from random import randrange\n",
        "import matplotlib.pyplot as plt\n",
        "import numpy as np\n",
        "import cv2\n",
        "figsize = (10, 10)\n"
      ]
    },
    {
      "cell_type": "code",
      "execution_count": null,
      "metadata": {
        "execution": {
          "iopub.execute_input": "2021-08-21T21:22:10.851586Z",
          "iopub.status.busy": "2021-08-21T21:22:10.850586Z",
          "iopub.status.idle": "2021-08-21T21:22:10.879586Z",
          "shell.execute_reply": "2021-08-21T21:22:10.879586Z"
        },
        "id": "tgwCTr3PYzqC"
      },
      "outputs": [],
      "source": [
        "#Reading images and converting them into gray\n",
        "img=cv2.imread('1.jpg')\n",
        "img1=cv2.cvtColor(img,cv2.COLOR_BGR2GRAY)\n",
        "img_=cv2.imread('2.jpg')\n",
        "img2=cv2.cvtColor(img_,cv2.COLOR_BGR2GRAY)\n"
      ]
    },
    {
      "cell_type": "markdown",
      "metadata": {
        "id": "vf3H_Xu3YzqC"
      },
      "source": [
        "## SIFT feature detection and description\n"
      ]
    },
    {
      "cell_type": "code",
      "execution_count": null,
      "metadata": {
        "execution": {
          "iopub.execute_input": "2021-08-21T21:22:10.884588Z",
          "iopub.status.busy": "2021-08-21T21:22:10.883586Z",
          "iopub.status.idle": "2021-08-21T21:22:11.523098Z",
          "shell.execute_reply": "2021-08-21T21:22:11.524098Z"
        },
        "id": "5l0sJO9YYzqD"
      },
      "outputs": [],
      "source": [
        "#Creating a object of cv2.SIFT_create() class\n",
        "feature_extracter=cv2.SIFT_create()\n",
        "#finding the keypoint and descriptors using chosen extracter(SIFT)\n",
        "keypoint_1,desc_1=feature_extracter.detectAndCompute(img1,None)\n",
        "keypoint_2,desc_2=feature_extracter.detectAndCompute(img2,None)\n",
        "\n",
        "test= cv2.drawKeypoints(img,keypoint_1,None,flags=cv2.DRAW_MATCHES_FLAGS_DRAW_RICH_KEYPOINTS)\n",
        "plt.figure(figsize=figsize)#important if you want to see in original size\n",
        "plt.imshow(test)\n",
        "plt.title(\"keypoints\")\n",
        "plt.show()"
      ]
    },
    {
      "cell_type": "markdown",
      "metadata": {
        "id": "7K_i87ERYzqF"
      },
      "source": [
        "## take only unique features\n"
      ]
    },
    {
      "cell_type": "code",
      "execution_count": null,
      "metadata": {
        "execution": {
          "iopub.execute_input": "2021-08-21T21:22:11.529099Z",
          "iopub.status.busy": "2021-08-21T21:22:11.529099Z",
          "iopub.status.idle": "2021-08-21T21:22:12.321098Z",
          "shell.execute_reply": "2021-08-21T21:22:12.321098Z"
        },
        "id": "h42XNruxYzqG"
      },
      "outputs": [],
      "source": [
        "#The BFMatcher() matches the features which are more similar. \n",
        "#When we set parameter k=2, we are asking the knnMatcher to give out 2 best matches for each descriptor.\n",
        "bf=cv2.BFMatcher()\n",
        "matches=bf.knnMatch(desc_1,desc_2,k=2)# we pass descriptor here.\n",
        "\n",
        "#now we will select the best matches and ignore poor matches\n",
        "#we apply ratio test using the top 2 matches obtained above.\n",
        "#We consider a match if the ratio defined below is predominantly greater than the specified ratio.\n",
        "good_and_second_good_match_list = []\n",
        "for m in matches:\n",
        "    if m[0].distance/m[1].distance < 0.5:\n",
        "        good_and_second_good_match_list.append(m)\n",
        "        \n",
        "good_match_arr = np.asarray(good_and_second_good_match_list)[:,0]\n",
        "\n",
        "# show only 30 matches\n",
        "im_matches = cv2.drawMatchesKnn(img, keypoint_1, img_, keypoint_2,\n",
        "                                good_and_second_good_match_list[0:30], None, flags=cv2.DrawMatchesFlags_NOT_DRAW_SINGLE_POINTS)\n",
        "\n",
        "plt.figure(figsize=(20, 20))\n",
        "plt.imshow(im_matches)\n",
        "plt.title(\"keypoints matches\")\n",
        "plt.show()\n"
      ]
    },
    {
      "cell_type": "markdown",
      "metadata": {
        "id": "cKZznMFpYzqH"
      },
      "source": [
        "## find homography between images\n"
      ]
    },
    {
      "cell_type": "code",
      "execution_count": null,
      "metadata": {
        "execution": {
          "iopub.execute_input": "2021-08-21T21:22:12.327098Z",
          "iopub.status.busy": "2021-08-21T21:22:12.326134Z",
          "iopub.status.idle": "2021-08-21T21:22:12.338016Z",
          "shell.execute_reply": "2021-08-21T21:22:12.338016Z"
        },
        "id": "jIRPmqZvYzqI"
      },
      "outputs": [],
      "source": [
        "good_keypoint_1= np.array([keypoint_1[m.queryIdx].pt for m in good_match_arr])\n",
        "good_keypoint_2= np.array([keypoint_2[m.trainIdx].pt for m in good_match_arr])\n",
        "H, masked = cv2.findHomography(good_keypoint_1, good_keypoint_2, cv2.RANSAC, 5.0)\n",
        "\n"
      ]
    },
    {
      "cell_type": "code",
      "source": [
        "print(H)"
      ],
      "metadata": {
        "id": "XH1VgLOesHEH"
      },
      "execution_count": null,
      "outputs": []
    },
    {
      "cell_type": "markdown",
      "metadata": {
        "id": "Hr53Yt6uYzqJ"
      },
      "source": [
        "## overlay images\n"
      ]
    },
    {
      "cell_type": "code",
      "execution_count": null,
      "metadata": {
        "execution": {
          "iopub.execute_input": "2021-08-21T21:22:12.659978Z",
          "iopub.status.busy": "2021-08-21T21:22:12.658978Z",
          "iopub.status.idle": "2021-08-21T21:22:13.028977Z",
          "shell.execute_reply": "2021-08-21T21:22:13.027977Z"
        },
        "id": "PbI2P59DYzqK"
      },
      "outputs": [],
      "source": [
        "img__warped = cv2.warpPerspective(img_, H, (img.shape[1] + img_.shape[1], img.shape[0]))\n",
        "img__warped[0:img.shape[0], 0:img.shape[1]] = img\n",
        "\n",
        "plt.figure(figsize=figsize)\n",
        "plt.imshow(img__warped)\n",
        "plt.title(\"naive warping\")\n",
        "plt.show()\n",
        "\n",
        "\n"
      ]
    }
  ],
  "metadata": {
    "language_info": {
      "name": "python"
    },
    "colab": {
      "name": "   Image stiching.ipynb",
      "provenance": [],
      "collapsed_sections": [],
      "include_colab_link": true
    },
    "kernelspec": {
      "name": "python3",
      "display_name": "Python 3"
    },
    "gpuClass": "standard"
  },
  "nbformat": 4,
  "nbformat_minor": 0
}